{
 "cells": [
  {
   "cell_type": "markdown",
   "metadata": {},
   "source": [
    "# English to French Translator using Gradio\n",
    "This notebook provides a simple Gradio UI for a trained English-to-French translation model."
   ]
  },
  {
   "cell_type": "code",
   "execution_count": 25,
   "metadata": {},
   "outputs": [
    {
     "name": "stderr",
     "output_type": "stream",
     "text": [
      "WARNING:absl:Compiled the loaded model, but the compiled metrics have yet to be built. `model.compile_metrics` will be empty until you train or evaluate the model.\n"
     ]
    }
   ],
   "source": [
    "# Step 2: Import required libraries\n",
    "import gradio as gr\n",
    "# import your model and tokenizer here\n",
    "# Example:\n",
    "from tensorflow.keras.models import load_model\n",
    "model = load_model('weights.h5')"
   ]
  },
  {
   "cell_type": "code",
   "execution_count": 27,
   "metadata": {},
   "outputs": [],
   "source": [
    "# Step 3: Define translation function\n",
    "#def translate_english_to_french(sentence):\n",
    "    # Replace this dummy logic with actual model/tokenizer prediction\n",
    "    # Example: tokenize input, predict, detokenize output\n",
    "    #return \"Traduction française de: \" + sentence"
   ]
  },
  {
   "cell_type": "code",
   "execution_count": 29,
   "metadata": {},
   "outputs": [],
   "source": [
    "import pandas as pd\n",
    "\n",
    "# Load the French CSV file\n",
    "fr_data = pd.read_csv(\"small_vocab_fr.csv\")\n",
    "\n",
    "# Rename the column\n",
    "fr_data.columns = ['fr']\n"
   ]
  },
  {
   "cell_type": "code",
   "execution_count": 31,
   "metadata": {},
   "outputs": [],
   "source": [
    "en_data = pd.read_csv(\"small_vocab_en.csv\")\n",
    "en_data.columns = ['en']\n"
   ]
  },
  {
   "cell_type": "code",
   "execution_count": 33,
   "metadata": {},
   "outputs": [],
   "source": [
    "# Access sentences\n",
    "fr_sentences = fr_data['fr'].astype(str).tolist()\n",
    "en_sentences = en_data['en'].astype(str).tolist()\n"
   ]
  },
  {
   "cell_type": "code",
   "execution_count": 35,
   "metadata": {},
   "outputs": [],
   "source": [
    "import pandas as pd\n",
    "from tensorflow.keras.preprocessing.text import Tokenizer\n",
    "\n",
    "# Load the CSVs\n",
    "en_data = pd.read_csv(\"small_vocab_en.csv\")\n",
    "fr_data = pd.read_csv(\"small_vocab_fr.csv\")\n",
    "\n",
    "# Rename columns to usable names\n",
    "en_data.columns = ['en']\n",
    "fr_data.columns = ['fr']\n",
    "\n",
    "# Extract sentence lists\n",
    "en_sentences = en_data['en'].astype(str).tolist()\n",
    "fr_sentences = fr_data['fr'].astype(str).tolist()\n",
    "\n",
    "# Fit tokenizers\n",
    "tokenizer_eng = Tokenizer()\n",
    "tokenizer_eng.fit_on_texts(en_sentences)\n",
    "\n",
    "tokenizer_fr = Tokenizer()\n",
    "tokenizer_fr.fit_on_texts(fr_sentences)\n",
    "\n",
    "# Optional: compute max input length\n",
    "max_input_length = max(len(s.split()) for s in en_sentences)\n"
   ]
  },
  {
   "cell_type": "code",
   "execution_count": 37,
   "metadata": {},
   "outputs": [],
   "source": [
    "def translate_english_to_french(sentence):\n",
    "    try:\n",
    "        # Step 1: Tokenize and pad the input sentence\n",
    "        sequence = tokenizer_eng.texts_to_sequences([sentence])\n",
    "        padded_sequence = pad_sequences(sequence, maxlen=max_input_length, padding='post')\n",
    "        \n",
    "        # Step 2: Predict using the model\n",
    "        prediction = model.predict(padded_sequence)\n",
    "        predicted_sequence = np.argmax(prediction[0], axis=1)\n",
    "        \n",
    "        # Step 3: Convert prediction to French words\n",
    "        translated_words = [tokenizer_fr.index_word.get(index, '') for index in predicted_sequence]\n",
    "        translated_sentence = ' '.join([word for word in translated_words if word not in ('', '<pad>')])\n",
    "        \n",
    "        return translated_sentence\n",
    "    \n",
    "    except Exception as e:\n",
    "        return f\"❌ Error: {str(e)}\"\n"
   ]
  },
  {
   "cell_type": "code",
   "execution_count": 39,
   "metadata": {},
   "outputs": [
    {
     "name": "stdout",
     "output_type": "stream",
     "text": [
      "* Running on local URL:  http://127.0.0.1:7881\n",
      "* Running on public URL: https://aed75960c6590ef289.gradio.live\n",
      "\n",
      "This share link expires in 1 week. For free permanent hosting and GPU upgrades, run `gradio deploy` from the terminal in the working directory to deploy to Hugging Face Spaces (https://huggingface.co/spaces)\n"
     ]
    },
    {
     "data": {
      "text/html": [
       "<div><iframe src=\"https://aed75960c6590ef289.gradio.live\" width=\"100%\" height=\"500\" allow=\"autoplay; camera; microphone; clipboard-read; clipboard-write;\" frameborder=\"0\" allowfullscreen></iframe></div>"
      ],
      "text/plain": [
       "<IPython.core.display.HTML object>"
      ]
     },
     "metadata": {},
     "output_type": "display_data"
    },
    {
     "data": {
      "text/plain": []
     },
     "execution_count": 39,
     "metadata": {},
     "output_type": "execute_result"
    }
   ],
   "source": [
    "# Step 4: Create Gradio Interface\n",
    "from tensorflow.keras.preprocessing.sequence import pad_sequences\n",
    "import numpy as np\n",
    "interface = gr.Interface(\n",
    "    fn=translate_english_to_french,\n",
    "    inputs=gr.Textbox(lines=2, placeholder=\"Enter English sentence...\"),\n",
    "    outputs=\"text\",\n",
    "    title=\"English to French Translator\",\n",
    "    description=\"Enter an English sentence and get the French translation using a trained model.\"\n",
    ")\n",
    "interface.launch(share=True)"
   ]
  },
  {
   "cell_type": "code",
   "execution_count": null,
   "metadata": {},
   "outputs": [],
   "source": []
  }
 ],
 "metadata": {
  "kernelspec": {
   "display_name": "Python 3 (ipykernel)",
   "language": "python",
   "name": "python3"
  },
  "language_info": {
   "codemirror_mode": {
    "name": "ipython",
    "version": 3
   },
   "file_extension": ".py",
   "mimetype": "text/x-python",
   "name": "python",
   "nbconvert_exporter": "python",
   "pygments_lexer": "ipython3",
   "version": "3.12.4"
  }
 },
 "nbformat": 4,
 "nbformat_minor": 4
}
